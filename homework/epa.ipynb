{
 "cells": [
  {
   "cell_type": "code",
   "execution_count": 21,
   "metadata": {},
   "outputs": [
    {
     "name": "stdout",
     "output_type": "stream",
     "text": [
      "('E', 3, 5)\n",
      "('A', 3, 4)\n",
      "('B', 4, 4)\n",
      "('A', 2, 4)\n",
      "('C', 4, 4)\n",
      "('A', 2, 5)\n",
      "('A', 3, 6)\n",
      "('B', 2, 3)\n",
      "('E', 4, 6)\n",
      "('B', 4, 6)\n",
      "('C', 4, 5)\n",
      "('C', 4, 3)\n",
      "('D', 4, 5)\n",
      "('E', 2, 3)\n",
      "('B', 2, 5)\n",
      "('D', 2, 4)\n",
      "('E', 3, 6)\n",
      "('D', 2, 3)\n",
      "('E', 4, 3)\n",
      "('E', 2, 3)\n",
      "('E', 2, 3)\n",
      "('E', 3, 3)\n",
      "('D', 3, 3)\n",
      "('A', 3, 5)\n",
      "('E', 2, 6)\n",
      "('E', 3, 6)\n",
      "('A', 3, 3)\n",
      "('E', 3, 5)\n",
      "('A', 2, 5)\n",
      "('C', 4, 6)\n",
      "('A', 2, 5)\n",
      "('D', 2, 6)\n",
      "('E', 2, 4)\n",
      "('B', 3, 6)\n",
      "('B', 3, 5)\n",
      "('D', 2, 3)\n",
      "('B', 2, 5)\n",
      "('C', 4, 3)\n",
      "('E', 2, 3)\n",
      "('E', 3, 3)\n"
     ]
    }
   ],
   "source": [
    "def pregunta_07():\n",
    "    with open(\"files/input/data.csv\", \"r\", encoding=\"utf-8\") as archivo:\n",
    "        lineas = archivo.readlines()\n",
    "\n",
    "    resultado = []\n",
    "\n",
    "    for linea in lineas:\n",
    "        columnas = linea.strip().split(\"\t\")  # Separar las columnas por coma\n",
    "        letra_columna_1 = columnas[0]       # Letra de la columna 1\n",
    "        columna_4 = columnas[3]             # Columna 4\n",
    "        columna_5 = columnas[4]             # Columna 5\n",
    "\n",
    "        # Contar elementos en las columnas 4 y 5\n",
    "        cantidad_columna_4 = len(columna_4.split(\",\"))  # Separados por coma\n",
    "        cantidad_columna_5 = len(columna_5.split(\",\"))  # Separados por coma\n",
    "\n",
    "        # Añadir la tupla al resultado\n",
    "        resultado.append((letra_columna_1, cantidad_columna_4, cantidad_columna_5))\n",
    "\n",
    "    return resultado\n",
    "\n",
    "# Llamada a la función y mostrar el resultado\n",
    "resultado = pregunta_07()\n",
    "for r in resultado:\n",
    "    print(r)\n"
   ]
  }
 ],
 "metadata": {
  "kernelspec": {
   "display_name": ".venv",
   "language": "python",
   "name": "python3"
  },
  "language_info": {
   "codemirror_mode": {
    "name": "ipython",
    "version": 3
   },
   "file_extension": ".py",
   "mimetype": "text/x-python",
   "name": "python",
   "nbconvert_exporter": "python",
   "pygments_lexer": "ipython3",
   "version": "3.10.11"
  }
 },
 "nbformat": 4,
 "nbformat_minor": 2
}
